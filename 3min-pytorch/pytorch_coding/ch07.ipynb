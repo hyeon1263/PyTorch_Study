{
  "nbformat": 4,
  "nbformat_minor": 0,
  "metadata": {
    "colab": {
      "name": "ch07",
      "provenance": [],
      "collapsed_sections": []
    },
    "kernelspec": {
      "name": "python3",
      "display_name": "Python 3"
    },
    "language_info": {
      "name": "python"
    }
  },
  "cells": [
    {
      "cell_type": "markdown",
      "source": [
        "### 영화 리뷰 감정 분석"
      ],
      "metadata": {
        "id": "2G2zIQGMfR9p"
      }
    },
    {
      "cell_type": "code",
      "execution_count": null,
      "metadata": {
        "id": "BJ97xnXpZ4PP"
      },
      "outputs": [],
      "source": [
        "import os\n",
        "import torch\n",
        "import torch.nn as nn\n",
        "import torch.nn.functional as F\n",
        "from torchtext.legacy import data, datasets"
      ]
    },
    {
      "cell_type": "code",
      "source": [
        "BATCH_SIZE = 64\n",
        "lr = 0.001\n",
        "EPOCHS = 40\n",
        "USE_CUDA = torch.cuda.is_available()\n",
        "DEVICE = torch.device('cuda' if USE_CUDA else 'cpu')"
      ],
      "metadata": {
        "id": "H5dgvKElcQwu"
      },
      "execution_count": null,
      "outputs": []
    },
    {
      "cell_type": "code",
      "source": [
        "TEXT = data.Field(sequential=True, batch_first=True, lower=True)\n",
        "LABEL = data.Field(sequential=False, batch_first=True)"
      ],
      "metadata": {
        "id": "mSTDXxf3cm9x"
      },
      "execution_count": null,
      "outputs": []
    },
    {
      "cell_type": "code",
      "source": [
        "trainset, testset = datasets.IMDB.splits(TEXT, LABEL)"
      ],
      "metadata": {
        "colab": {
          "base_uri": "https://localhost:8080/"
        },
        "id": "NGNDZ5ZldBOd",
        "outputId": "bfbe59a0-fa66-4598-eb50-386a9e666d41"
      },
      "execution_count": null,
      "outputs": [
        {
          "output_type": "stream",
          "name": "stdout",
          "text": [
            "downloading aclImdb_v1.tar.gz\n"
          ]
        },
        {
          "output_type": "stream",
          "name": "stderr",
          "text": [
            "100%|██████████| 84.1M/84.1M [00:05<00:00, 14.9MB/s]\n"
          ]
        }
      ]
    },
    {
      "cell_type": "code",
      "source": [
        "for i in trainset:\n",
        "    print(i.text)\n",
        "    break"
      ],
      "metadata": {
        "colab": {
          "base_uri": "https://localhost:8080/"
        },
        "id": "DKsihu_YJO74",
        "outputId": "4f5040ef-6414-442d-e945-484c53ab08da"
      },
      "execution_count": null,
      "outputs": [
        {
          "output_type": "stream",
          "name": "stdout",
          "text": [
            "['of', 'course', 'if', 'you', 'are', 'reading', 'my', 'review', 'you', 'have', 'seen', 'this', 'film', 'already.', \"'raja\", \"babu'\", 'is', 'one', 'of', 'my', 'most', 'favorite', 'characters.', 'i', 'just', 'love', 'the', 'concept', 'of', 'a', 'spoiled', 'brat', 'with', 'a', '24*7', 'servant', 'on', 'his', 'motorcycle.', 'watch', 'movies', 'and', 'emulate', 'characters', 'etc', 'etc.', 'i', 'love', 'the', 'scene', 'when', 'a', 'stone', 'cracks', 'in', 'kader', 'khans', 'mouth', 'while', 'eating.', 'also', 'where', 'shakti', 'kapoor', 'narrates', 'a', 'corny', 'story', 'of', 'raja', \"babu's\", 'affairs', 'on', 'a', 'dinner', 'table', 'and', 'govinda', 'wearing', \"'dharam-veer'\", 'uniform', 'makes', 'sentimental', 'remarks.', 'thats', 'my', 'favorite', 'scene', 'of', 'the', 'film.', \"'achcha\", 'pitaji', 'to', 'main', 'chalta', \"hoon'\", 'scene', 'is', 'just', 'chemistry', 'between', 'two', 'great', 'indian', 'actors', 'doing', 'a', 'comical', 'scene', 'with', 'no', 'dialogs.', 'its', 'brilliant.', \"it's\", 'a', 'cat', 'mouse', 'film.', 'just', 'watch', 'these', 'actors', 'helping', 'each', 'other', 'and', 'still', 'taking', 'away', 'the', 'scene', 'from', 'each', 'other.', 'its', 'total', 'entertainment.', 'if', 'you', 'like', 'govinda', 'and', 'kader', 'khan', 'chemistry', 'then', 'its', 'a', 'must.', 'i', 'think', 'rb', 'is', '6th', 'in', 'my', 'list', 'by', 'david', 'dhawan.', \"'deewana\", \"mastana',\", \"'ankhein','shola\", 'or', \"shabnam',\", \"'swarg',\", 'coolie', 'no', \"1'\", 'precedes', 'this', 'gem', 'of', 'a', 'film.', '7/10.']\n"
          ]
        }
      ]
    },
    {
      "cell_type": "code",
      "source": [
        "TEXT.build_vocab(trainset, min_freq=5)  # 최소 5번 이상 등장한 단어만을 사전에 담겠다\n",
        "LABEL.build_vocab(trainset)"
      ],
      "metadata": {
        "id": "UI7n_JgRdW2U"
      },
      "execution_count": null,
      "outputs": []
    },
    {
      "cell_type": "code",
      "source": [
        "trainset, valset = trainset.split(split_ratio=0.8)\n",
        "train_iter, val_iter, test_iter = data.BucketIterator.splits(\n",
        "    (trainset, valset, testset),\n",
        "    batch_size=BATCH_SIZE,\n",
        "    shuffle=True, repeat=False\n",
        ")"
      ],
      "metadata": {
        "id": "GFpu0ZPxd3G0"
      },
      "execution_count": null,
      "outputs": []
    },
    {
      "cell_type": "code",
      "source": [
        "vocab_size = len(TEXT.vocab)\n",
        "n_classes = 2"
      ],
      "metadata": {
        "id": "HeveWNa3eJuy"
      },
      "execution_count": null,
      "outputs": []
    },
    {
      "cell_type": "code",
      "source": [
        "print(f\"[학습셋]: {len(trainset)}, [검증셋]: {len(valset)}, [테스트셋]: {len(testset)}, [단어수]: {vocab_size}, [클래스]: {n_classes}\")"
      ],
      "metadata": {
        "colab": {
          "base_uri": "https://localhost:8080/"
        },
        "id": "0ehQ5tBAfdpJ",
        "outputId": "08ba331c-be72-461e-9479-f3bb04032b43"
      },
      "execution_count": null,
      "outputs": [
        {
          "output_type": "stream",
          "name": "stdout",
          "text": [
            "[학습셋]: 20000, [검증셋]: 5000, [테스트셋]: 25000, [단어수]: 46159, [클래스]: 2\n"
          ]
        }
      ]
    },
    {
      "cell_type": "code",
      "source": [
        "class BasicGRU(nn.Module):\n",
        "    def __init__(self, n_layers, hidden_dim, n_vocab, embed_dim, n_classes, dropout_p=0.2):\n",
        "        super(BasicGRU, self).__init__()\n",
        "        print(\"Building Basic GRU model...\")\n",
        "        \n",
        "        self.n_layers = n_layers    # 은닉벡터들의 '층'\n",
        "        self.embed = nn.Embedding(n_vocab, embed_dim)\n",
        "        self.hidden_dim = hidden_dim    # 은닉벡터의 차원값\n",
        "        self.dropout = nn.Dropout(dropout_p)\n",
        "        self.gru = nn.GRU(embed_dim, self.hidden_dim,   # 문장의 뒷부분에 다다를수록 앞부분의 정보가 소실되는 어려움을 겪는 RNN을 보완한 'GRU'\n",
        "                          num_layers=self.n_layers,\n",
        "                          batch_first=True)\n",
        "        self.out = nn.Linear(self.hidden_dim, n_classes)\n",
        "\n",
        "    def forward(self, x):\n",
        "        x = self.embed(x)   # 임베딩으로 벡터 배열 생성\n",
        "        h_0 = self._init_state(batch_size=x.size(0))    # 첫 번째 은닉벡터 정의 \n",
        "        x, _ = self.gru(x, h_0)\n",
        "        h_t = x[:,-1,:]     # (batch_size, 1, hidden_dim) 모양의 텐서 추출\n",
        "        self.dropout(h_t)   \n",
        "        logit = self.out(h_t)\n",
        "        return logit\n",
        "\n",
        "    def _init_state(self, batch_size=1):    #???????????????????????????????????\n",
        "        weight = next(self.parameters()).data\n",
        "        return weight.new(self.n_layers, batch_size, self.hidden_dim).zero_()"
      ],
      "metadata": {
        "id": "-ltlg2qvf0Yw"
      },
      "execution_count": null,
      "outputs": []
    },
    {
      "cell_type": "code",
      "source": [
        "def train(model, optimizer, train_iter):\n",
        "    model.train()\n",
        "    for b, batch in enumerate(train_iter):\n",
        "        x, y = batch.text.to(DEVICE), batch.label.to(DEVICE)\n",
        "        y.data.sub_(1)  # label을 (1,2) -> (0,1)로 1씩 빼주어 바꾼다\n",
        "        \n",
        "        optimizer.zero_grad()\n",
        "        logit = model(x)\n",
        "        loss = F.cross_entropy(logit, y)\n",
        "        loss.backward()\n",
        "        optimizer.step()"
      ],
      "metadata": {
        "id": "Z9ncvVzdvZrI"
      },
      "execution_count": null,
      "outputs": []
    },
    {
      "cell_type": "code",
      "source": [
        "def evaluate(model, val_iter):\n",
        "    model.eval()\n",
        "    corrects, total_loss = 0, 0\n",
        "    for batch in val_iter:\n",
        "        x, y = batch.text.to(DEVICE), batch.label.to(DEVICE)\n",
        "        y.data.sub_(1)\n",
        "        logit = model(x)\n",
        "        loss = F.cross_entropy(logit, y, reduction='sum')\n",
        "        total_loss += loss.item()\n",
        "        corrects += (logit.max(1)[1].view(y.size()).data == y.data).sum()\n",
        "    \n",
        "    size = len(val_iter.dataset)\n",
        "    avg_loss = total_loss / size\n",
        "    avg_accuracy = 100.0 * corrects / size\n",
        "    return avg_loss, avg_accuracy"
      ],
      "metadata": {
        "id": "s3RE2r3Biirf"
      },
      "execution_count": null,
      "outputs": []
    },
    {
      "cell_type": "code",
      "source": [
        "model = BasicGRU(1, 256, vocab_size, 128, n_classes, 0.5).to(DEVICE)\n",
        "optimizer = torch.optim.Adam(model.parameters(), lr=lr)"
      ],
      "metadata": {
        "colab": {
          "base_uri": "https://localhost:8080/"
        },
        "id": "6W0m_gjZis3E",
        "outputId": "cfb4eef7-6be5-49a6-a08a-8b1cbdfd5ec0"
      },
      "execution_count": null,
      "outputs": [
        {
          "output_type": "stream",
          "name": "stdout",
          "text": [
            "Building Basic GRU model...\n"
          ]
        }
      ]
    },
    {
      "cell_type": "code",
      "source": [
        "best_val_loss = None\n",
        "for e in range(1, EPOCHS+1):\n",
        "    train(model, optimizer, train_iter)\n",
        "    val_loss, val_accuracy = evaluate(model, val_iter)\n",
        "    print(f\"[이폭: {e}] 검증 오차:{val_loss:5.2f} \\| 검증 정확도:{val_accuracy:5.2f}\")\n",
        "\n",
        "    if not best_val_loss or val_loss < best_val_loss:\n",
        "        if not os.path.isdir(\"snapshot\"):\n",
        "            os.makedirs(\"snapshot\")\n",
        "        torch.save(model.state_dict(), './snapshot/txtclassification.pt')   # val_loss가 가장 작은 모델 저장\n",
        "        best_val_loss = val_loss"
      ],
      "metadata": {
        "colab": {
          "base_uri": "https://localhost:8080/"
        },
        "id": "fUdxvM9Ni266",
        "outputId": "be15711b-5f38-40ac-b489-200455b8c780"
      },
      "execution_count": null,
      "outputs": [
        {
          "output_type": "stream",
          "name": "stdout",
          "text": [
            "[이폭: 1] 검증 오차: 0.69 \\| 검증 정확도:49.98\n",
            "[이폭: 2] 검증 오차: 0.69 \\| 검증 정확도:50.88\n",
            "[이폭: 3] 검증 오차: 0.69 \\| 검증 정확도:52.54\n",
            "[이폭: 4] 검증 오차: 0.69 \\| 검증 정확도:53.34\n",
            "[이폭: 5] 검증 오차: 0.48 \\| 검증 정확도:77.54\n",
            "[이폭: 6] 검증 오차: 0.37 \\| 검증 정확도:83.82\n",
            "[이폭: 7] 검증 오차: 0.36 \\| 검증 정확도:85.42\n",
            "[이폭: 8] 검증 오차: 0.42 \\| 검증 정확도:85.04\n",
            "[이폭: 9] 검증 오차: 0.42 \\| 검증 정확도:85.08\n",
            "[이폭: 10] 검증 오차: 0.45 \\| 검증 정확도:85.38\n",
            "[이폭: 11] 검증 오차: 0.43 \\| 검증 정확도:85.10\n",
            "[이폭: 12] 검증 오차: 0.49 \\| 검증 정확도:84.60\n",
            "[이폭: 13] 검증 오차: 0.51 \\| 검증 정확도:85.02\n",
            "[이폭: 14] 검증 오차: 0.55 \\| 검증 정확도:85.16\n",
            "[이폭: 15] 검증 오차: 0.55 \\| 검증 정확도:85.22\n",
            "[이폭: 16] 검증 오차: 0.51 \\| 검증 정확도:85.36\n",
            "[이폭: 17] 검증 오차: 0.59 \\| 검증 정확도:84.84\n",
            "[이폭: 18] 검증 오차: 0.56 \\| 검증 정확도:85.74\n"
          ]
        }
      ]
    },
    {
      "cell_type": "code",
      "source": [
        "model.load_state_dict(torch.load('./snapshot/txtclassification.pt'))    # 저장된 모델 불러오기\n",
        "test_loss, test_acc = evaluate(model, test_iter)\n",
        "print(f\"테스트 오차: {test_loss:5.2f} \\| 테스트 정확도: {test_acc:5.2f}\")"
      ],
      "metadata": {
        "colab": {
          "base_uri": "https://localhost:8080/",
          "height": 209
        },
        "id": "hbdDAVbtlu9-",
        "outputId": "7b3c7f7f-dee2-442a-975e-0b68983fc63e"
      },
      "execution_count": null,
      "outputs": [
        {
          "output_type": "error",
          "ename": "NameError",
          "evalue": "ignored",
          "traceback": [
            "\u001b[0;31m---------------------------------------------------------------------------\u001b[0m",
            "\u001b[0;31mNameError\u001b[0m                                 Traceback (most recent call last)",
            "\u001b[0;32m<ipython-input-1-18466dcefc30>\u001b[0m in \u001b[0;36m<module>\u001b[0;34m()\u001b[0m\n\u001b[0;32m----> 1\u001b[0;31m \u001b[0mmodel\u001b[0m\u001b[0;34m.\u001b[0m\u001b[0mload_state_dict\u001b[0m\u001b[0;34m(\u001b[0m\u001b[0mtorch\u001b[0m\u001b[0;34m.\u001b[0m\u001b[0mload\u001b[0m\u001b[0;34m(\u001b[0m\u001b[0;34m'./snapshot/txtclassification.pt'\u001b[0m\u001b[0;34m)\u001b[0m\u001b[0;34m)\u001b[0m    \u001b[0;31m# 저장된 모델 불러오기\u001b[0m\u001b[0;34m\u001b[0m\u001b[0;34m\u001b[0m\u001b[0m\n\u001b[0m\u001b[1;32m      2\u001b[0m \u001b[0mtest_loss\u001b[0m\u001b[0;34m,\u001b[0m \u001b[0mtest_acc\u001b[0m \u001b[0;34m=\u001b[0m \u001b[0mevaluate\u001b[0m\u001b[0;34m(\u001b[0m\u001b[0mmodel\u001b[0m\u001b[0;34m,\u001b[0m \u001b[0mtest_iter\u001b[0m\u001b[0;34m)\u001b[0m\u001b[0;34m\u001b[0m\u001b[0;34m\u001b[0m\u001b[0m\n\u001b[1;32m      3\u001b[0m \u001b[0mprint\u001b[0m\u001b[0;34m(\u001b[0m\u001b[0;34mf\"테스트 오차: {test_loss:5.2f} \\| 테스트 정확도: {test_acc:5.2f}\"\u001b[0m\u001b[0;34m)\u001b[0m\u001b[0;34m\u001b[0m\u001b[0;34m\u001b[0m\u001b[0m\n",
            "\u001b[0;31mNameError\u001b[0m: name 'model' is not defined"
          ]
        }
      ]
    },
    {
      "cell_type": "markdown",
      "source": [
        "### Seq2Seq 기계 번역"
      ],
      "metadata": {
        "id": "oNLRIXYXAjs-"
      }
    },
    {
      "cell_type": "code",
      "source": [
        "import torch\n",
        "import torch.nn as nn\n",
        "import random\n",
        "import matplotlib.pyplot as plt"
      ],
      "metadata": {
        "id": "UUs1BeIIAl7T"
      },
      "execution_count": null,
      "outputs": []
    },
    {
      "cell_type": "code",
      "source": [
        "vocab_size = 256"
      ],
      "metadata": {
        "id": "mq7Lz5iVA91A"
      },
      "execution_count": null,
      "outputs": []
    },
    {
      "cell_type": "code",
      "source": [
        "x_ = list(map(ord, \"hello\"))\n",
        "y_ = list(map(ord, \"hola\"))\n",
        "x = torch.LongTensor(x_)\n",
        "y = torch.LongTensor(y_)"
      ],
      "metadata": {
        "id": "pp6c5qqsA_ua"
      },
      "execution_count": null,
      "outputs": []
    },
    {
      "cell_type": "code",
      "source": [
        "class Seq2Seq(nn.Module):\n",
        "    def __init__(self, vocab_size, hidden_size):\n",
        "        super(Seq2Seq, self).__init__()\n",
        "        self.n_layers = 1\n",
        "        self.hidden_size = hidden_size\n",
        "        self.embedding = nn.Embedding(vocab_size, hidden_size)\n",
        "        self.encoder = nn.GRU(hidden_size, hidden_size)\n",
        "        self.decoder = nn.GRU(hidden_size, hidden_size)\n",
        "        self.project = nn.Linear(hidden_size, vocab_size)\n",
        "\n",
        "    def forward(self, inputs, targets):\n",
        "        initial_state = self._init_state()\n",
        "        embedding = self.embedding(inputs).unsqueeze(1)\n",
        "        encoder_output, encoder_state = self.encoder(embedding, initial_state)\n",
        "\n",
        "        decoder_state = encoder_state\n",
        "        decoder_input = torch.LongTensor([0])\n",
        "\n",
        "        outputs = []\n",
        "        for i in range(targets.size()[0]):\n",
        "            decoder_input = self.embedding(decoder_input).unsqueeze(1)\n",
        "            decoder_output, decoder_state = self.decoder(decoder_input, decoder_state)\n",
        "\n",
        "            projection = self.project(decoder_output)\n",
        "            outputs.append(projection)\n",
        "\n",
        "            decoder_input = torch.LongTensor([targets[i]])\n",
        "        outputs = torch.stack(outputs).squeeze()\n",
        "        return outputs\n",
        "    \n",
        "    def _init_state(self, batch_size=1):\n",
        "        weight = next(self.parameters()).data\n",
        "        return weight.new(self.n_layers, batch_size, self.hidden_size).zero_()"
      ],
      "metadata": {
        "id": "6UGnvwhYBMCT"
      },
      "execution_count": null,
      "outputs": []
    },
    {
      "cell_type": "code",
      "source": [
        "seq2seq = Seq2Seq(vocab_size, 16)\n",
        "criterion = nn.CrossEntropyLoss()\n",
        "optimizer = torch.optim.Adam(seq2seq.parameters(), lr=1e-3)"
      ],
      "metadata": {
        "id": "ykv9lrVzKweJ"
      },
      "execution_count": null,
      "outputs": []
    },
    {
      "cell_type": "code",
      "source": [
        "log = []\n",
        "for i in range(1000):\n",
        "    prediction = seq2seq(x, y)\n",
        "    loss = criterion(prediction, y)\n",
        "    optimizer.zero_grad()\n",
        "    loss.backward()\n",
        "    optimizer.step()\n",
        "    loss_val = loss.data\n",
        "    log.append(loss_val)\n",
        "    if i % 100 == 0:\n",
        "        print(f\"\\n 반복:{i} 오차:{loss_val.item()}\")\n",
        "        _, top1 = prediction.data.topk(1, 1)\n",
        "        print([chr(c) for c in top1.squeeze().numpy().tolist()])"
      ],
      "metadata": {
        "colab": {
          "base_uri": "https://localhost:8080/"
        },
        "id": "5vj13A9dKw74",
        "outputId": "203d1efb-889a-4edb-fa44-5a3303e167c1"
      },
      "execution_count": null,
      "outputs": [
        {
          "output_type": "stream",
          "name": "stdout",
          "text": [
            "\n",
            " 반복:0 오차:5.518559455871582\n",
            "['\\x92', 'è', '\\x92', '\\x92']\n",
            "\n",
            " 반복:100 오차:1.9480890035629272\n",
            "['h', 'l', 'l', 'a']\n",
            "\n",
            " 반복:200 오차:0.7009897828102112\n",
            "['h', 'o', 'l', 'a']\n",
            "\n",
            " 반복:300 오차:0.4052084684371948\n",
            "['h', 'o', 'l', 'a']\n",
            "\n",
            " 반복:400 오차:0.2181721031665802\n",
            "['h', 'o', 'l', 'a']\n",
            "\n",
            " 반복:500 오차:0.14309045672416687\n",
            "['h', 'o', 'l', 'a']\n",
            "\n",
            " 반복:600 오차:0.10180743038654327\n",
            "['h', 'o', 'l', 'a']\n",
            "\n",
            " 반복:700 오차:0.07587451487779617\n",
            "['h', 'o', 'l', 'a']\n",
            "\n",
            " 반복:800 오차:0.058933075517416\n",
            "['h', 'o', 'l', 'a']\n",
            "\n",
            " 반복:900 오차:0.04736802726984024\n",
            "['h', 'o', 'l', 'a']\n"
          ]
        }
      ]
    },
    {
      "cell_type": "code",
      "source": [
        "plt.plot(log)\n",
        "plt.ylabel(\"cross entropy loss\")\n",
        "plt.show()"
      ],
      "metadata": {
        "colab": {
          "base_uri": "https://localhost:8080/",
          "height": 265
        },
        "id": "ZFEup-RyL00R",
        "outputId": "c5d916aa-5f21-47eb-d9c4-d803d328400a"
      },
      "execution_count": null,
      "outputs": [
        {
          "output_type": "display_data",
          "data": {
            "text/plain": [
              "<Figure size 432x288 with 1 Axes>"
            ],
            "image/png": "[encoded data removed]"
          },
          "metadata": {
            "needs_background": "light"
          }
        }
      ]
    }
  ]
}